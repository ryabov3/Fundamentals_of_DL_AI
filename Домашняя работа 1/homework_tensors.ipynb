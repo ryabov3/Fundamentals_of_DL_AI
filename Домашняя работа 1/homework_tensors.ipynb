{
 "cells": [
  {
   "cell_type": "markdown",
   "id": "79642a33-afa6-4701-8019-cc0334f60712",
   "metadata": {},
   "source": [
    "# Задание 1: Создание и манипуляции с тензорами."
   ]
  },
  {
   "cell_type": "markdown",
   "id": "f16e1b65-be6c-498f-84d2-629e4ddbe94c",
   "metadata": {
    "jp-MarkdownHeadingCollapsed": true
   },
   "source": [
    "## 1.0. Импорт библиотеки и создание девайса."
   ]
  },
  {
   "cell_type": "code",
   "execution_count": 2,
   "id": "9de2ae89-8057-4a82-aa6b-a58b408cd172",
   "metadata": {},
   "outputs": [
    {
     "name": "stdout",
     "output_type": "stream",
     "text": [
      "Тензоры на cuda:0.\n"
     ]
    }
   ],
   "source": [
    "import torch\n",
    "\n",
    "# Введём устройство, на котором будут работать тензоры.\n",
    "device = torch.device(\"cuda:0\" if torch.cuda.is_available() else \"cpu\")\n",
    "\n",
    "print(f\"Тензоры на {device}.\")"
   ]
  },
  {
   "cell_type": "markdown",
   "id": "08f212c9-1ac4-4627-96ff-841439931ae0",
   "metadata": {
    "jp-MarkdownHeadingCollapsed": true
   },
   "source": [
    "## 1.1. Создание тензоров"
   ]
  },
  {
   "cell_type": "code",
   "execution_count": 56,
   "id": "4b52d981-785e-4f47-ba99-6b844ba6acb1",
   "metadata": {},
   "outputs": [
    {
     "name": "stdout",
     "output_type": "stream",
     "text": [
      "- Тензор размером 3x4, заполненный случайными числами от 0 до 1:\n",
      " tensor([[0.2945, 0.6872, 0.6960, 0.8122],\n",
      "        [0.9657, 0.4771, 0.0914, 0.0047],\n",
      "        [0.5967, 0.7749, 0.9755, 0.4109]], device='cuda:0')\n",
      "\n",
      "- Тензор размером 2x3x4, заполненный нулями:\n",
      " tensor([[[0., 0., 0., 0.],\n",
      "         [0., 0., 0., 0.],\n",
      "         [0., 0., 0., 0.]],\n",
      "\n",
      "        [[0., 0., 0., 0.],\n",
      "         [0., 0., 0., 0.],\n",
      "         [0., 0., 0., 0.]]], device='cuda:0')\n",
      "\n",
      "- Тензор размером 5x5, заполненный единицами:\n",
      " tensor([[1., 1., 1., 1., 1.],\n",
      "        [1., 1., 1., 1., 1.],\n",
      "        [1., 1., 1., 1., 1.],\n",
      "        [1., 1., 1., 1., 1.],\n",
      "        [1., 1., 1., 1., 1.]], device='cuda:0')\n",
      "\n",
      "- Тензор размером 4x4 с числами от 0 до 15 (используйте reshape):\n",
      " tensor([[ 0,  1,  2,  3],\n",
      "        [ 4,  5,  6,  7],\n",
      "        [ 8,  9, 10, 11],\n",
      "        [12, 13, 14, 15]], device='cuda:0')\n"
     ]
    }
   ],
   "source": [
    "tensor_rand = torch.rand(3, 4).to(device)\n",
    "tensor_zeros = torch.zeros(2, 3, 4).to(device)\n",
    "tensor_ones = torch.ones(5, 5).to(device)\n",
    "tensor_arange = torch.arange(0, 16).reshape(4, 4).to(device)\n",
    "\n",
    "print(f\"- Тензор размером 3x4, заполненный случайными числами от 0 до 1:\\n {tensor_rand}\", end='\\n\\n')\n",
    "print(f\"- Тензор размером 2x3x4, заполненный нулями:\\n {tensor_zeros}\", end='\\n\\n')\n",
    "print(f\"- Тензор размером 5x5, заполненный единицами:\\n {tensor_ones}\", end='\\n\\n')\n",
    "print(f\"- Тензор размером 4x4 с числами от 0 до 15 (используйте reshape):\\n {tensor_arange}\")"
   ]
  },
  {
   "cell_type": "markdown",
   "id": "68c30699-22fb-4986-9927-5086eeabb9df",
   "metadata": {
    "jp-MarkdownHeadingCollapsed": true
   },
   "source": [
    "## 1.2. Операции с тензорами"
   ]
  },
  {
   "cell_type": "code",
   "execution_count": 57,
   "id": "5d547174-4677-4d80-8e7c-b0b41be9a6e6",
   "metadata": {},
   "outputs": [
    {
     "name": "stdout",
     "output_type": "stream",
     "text": [
      "*Тензор А:\n",
      " tensor([[ 0,  1,  2,  3],\n",
      "        [ 4,  5,  6,  7],\n",
      "        [ 8,  9, 10, 11]], device='cuda:0')\n",
      "\n",
      "*Тензор B:\n",
      " tensor([[ 0,  3,  6,  9],\n",
      "        [ 1,  4,  7, 10],\n",
      "        [ 2,  5,  8, 11]], device='cuda:0')\n",
      "\n",
      "Транспонирование тензора:\n",
      " tensor([[ 0,  4,  8],\n",
      "        [ 1,  5,  9],\n",
      "        [ 2,  6, 10],\n",
      "        [ 3,  7, 11]], device='cuda:0')\n",
      "\n",
      "Матричное умножение:\n",
      " tensor([[ 42,  48,  54],\n",
      "        [114, 136, 158],\n",
      "        [186, 224, 262]])\n",
      "\n",
      "Поэлементное умножение A и транспонированного B:\n",
      " tensor([[  0,   3,  12,  27],\n",
      "        [  4,  20,  42,  70],\n",
      "        [ 16,  45,  80, 121]], device='cuda:0')\n",
      "\n",
      "- Вычислите сумму всех элементов тензора A: 66\n"
     ]
    }
   ],
   "source": [
    "A = torch.arange(0, 12).reshape(3, 4).to(device)\n",
    "B = torch.arange(0, 12).reshape(4, 3).to(device)\n",
    "\n",
    "print(f\"*Тензор А:\\n {A}\", end='\\n\\n')\n",
    "print(f\"*Тензор B:\\n {B.T}\", end='\\n\\n')\n",
    "\n",
    "print(f\"Транспонирование тензора:\\n {A.T}\", end='\\n\\n')\n",
    "try:\n",
    "    print(f\"Матричное умножение:\\n {A @ B}\", end='\\n\\n')\n",
    "except RuntimeError:\n",
    "    print(f\"Матричное умножение:\\n {A.cpu() @ B.cpu()}\", end='\\n\\n')\n",
    "print(f\"Поэлементное умножение A и транспонированного B:\\n {A * B.T}\", end='\\n\\n')\n",
    "print(f\"- Вычислите сумму всех элементов тензора A: {A.sum()}\")"
   ]
  },
  {
   "cell_type": "markdown",
   "id": "d32918a5-ba15-41f1-9ef3-42c723a047c7",
   "metadata": {},
   "source": [
    "## 1.3. Индексация и срезы"
   ]
  },
  {
   "cell_type": "code",
   "execution_count": 5,
   "id": "e052eb01-30c0-44b4-a6dd-79b6fc5d9694",
   "metadata": {},
   "outputs": [
    {
     "name": "stdout",
     "output_type": "stream",
     "text": [
      "*Тензор:\n",
      " tensor([[[  0,   1,   2,   3,   4],\n",
      "         [  5,   6,   7,   8,   9],\n",
      "         [ 10,  11,  12,  13,  14],\n",
      "         [ 15,  16,  17,  18,  19],\n",
      "         [ 20,  21,  22,  23,  24]],\n",
      "\n",
      "        [[ 25,  26,  27,  28,  29],\n",
      "         [ 30,  31,  32,  33,  34],\n",
      "         [ 35,  36,  37,  38,  39],\n",
      "         [ 40,  41,  42,  43,  44],\n",
      "         [ 45,  46,  47,  48,  49]],\n",
      "\n",
      "        [[ 50,  51,  52,  53,  54],\n",
      "         [ 55,  56,  57,  58,  59],\n",
      "         [ 60,  61,  62,  63,  64],\n",
      "         [ 65,  66,  67,  68,  69],\n",
      "         [ 70,  71,  72,  73,  74]],\n",
      "\n",
      "        [[ 75,  76,  77,  78,  79],\n",
      "         [ 80,  81,  82,  83,  84],\n",
      "         [ 85,  86,  87,  88,  89],\n",
      "         [ 90,  91,  92,  93,  94],\n",
      "         [ 95,  96,  97,  98,  99]],\n",
      "\n",
      "        [[100, 101, 102, 103, 104],\n",
      "         [105, 106, 107, 108, 109],\n",
      "         [110, 111, 112, 113, 114],\n",
      "         [115, 116, 117, 118, 119],\n",
      "         [120, 121, 122, 123, 124]]], device='cuda:0')\n",
      "\n",
      "- Первая строка: tensor([0, 1, 2, 3, 4], device='cuda:0')\n",
      "\n",
      "- Последний столбец:\n",
      " tensor([[  4,   9,  14,  19,  24],\n",
      "        [ 29,  34,  39,  44,  49],\n",
      "        [ 54,  59,  64,  69,  74],\n",
      "        [ 79,  84,  89,  94,  99],\n",
      "        [104, 109, 114, 119, 124]], device='cuda:0')\n",
      "\n",
      "- Подматрица размером 2x2 из центра тензора:\n",
      " tensor([[56, 57],\n",
      "        [61, 62]], device='cuda:0')\n",
      "\n",
      "- Все элементы с четными индексами:\n",
      " tensor([[[  0,   2,   4],\n",
      "         [  5,   7,   9],\n",
      "         [ 10,  12,  14],\n",
      "         [ 15,  17,  19],\n",
      "         [ 20,  22,  24]],\n",
      "\n",
      "        [[ 25,  27,  29],\n",
      "         [ 30,  32,  34],\n",
      "         [ 35,  37,  39],\n",
      "         [ 40,  42,  44],\n",
      "         [ 45,  47,  49]],\n",
      "\n",
      "        [[ 50,  52,  54],\n",
      "         [ 55,  57,  59],\n",
      "         [ 60,  62,  64],\n",
      "         [ 65,  67,  69],\n",
      "         [ 70,  72,  74]],\n",
      "\n",
      "        [[ 75,  77,  79],\n",
      "         [ 80,  82,  84],\n",
      "         [ 85,  87,  89],\n",
      "         [ 90,  92,  94],\n",
      "         [ 95,  97,  99]],\n",
      "\n",
      "        [[100, 102, 104],\n",
      "         [105, 107, 109],\n",
      "         [110, 112, 114],\n",
      "         [115, 117, 119],\n",
      "         [120, 122, 124]]], device='cuda:0')\n"
     ]
    }
   ],
   "source": [
    "tensor = torch.arange(0, 125).reshape(5, 5, 5).to(device)\n",
    "print(f\"*Тензор:\\n {tensor}\", end='\\n\\n')\n",
    "\n",
    "print(f\"- Первая строка: {tensor[0, 0]}\\n\")\n",
    "print(f\"- Последний столбец:\\n {tensor[:, :, 4]}\\n\")\n",
    "print(f\"- Подматрица размером 2x2 из центра тензора:\\n {tensor[2, 1:3, 1:3]}\\n\")\n",
    "print(f\"- Все элементы с четными индексами:\\n {tensor[:, :, ::2]}\")"
   ]
  },
  {
   "cell_type": "markdown",
   "id": "403e99be-abc3-4c03-872d-003640ec904d",
   "metadata": {
    "jp-MarkdownHeadingCollapsed": true
   },
   "source": [
    "## 1.4. Работа с формами"
   ]
  },
  {
   "cell_type": "code",
   "execution_count": 59,
   "id": "9891ab26-4b6d-4abe-896b-a50b5e4f50a7",
   "metadata": {},
   "outputs": [
    {
     "name": "stdout",
     "output_type": "stream",
     "text": [
      "- 2x12:\n",
      " tensor([[ 0,  1,  2,  3,  4,  5,  6,  7,  8,  9, 10, 11],\n",
      "        [12, 13, 14, 15, 16, 17, 18, 19, 20, 21, 22, 23]], device='cuda:0')\n",
      "\n",
      "- 3x8:\n",
      " tensor([[ 0,  1,  2,  3,  4,  5,  6,  7],\n",
      "        [ 8,  9, 10, 11, 12, 13, 14, 15],\n",
      "        [16, 17, 18, 19, 20, 21, 22, 23]], device='cuda:0')\n",
      "\n",
      "- 4x6:\n",
      " tensor([[ 0,  1,  2,  3,  4,  5],\n",
      "        [ 6,  7,  8,  9, 10, 11],\n",
      "        [12, 13, 14, 15, 16, 17],\n",
      "        [18, 19, 20, 21, 22, 23]], device='cuda:0')\n",
      "\n",
      "- 2x3x4:\n",
      " tensor([[[ 0,  1,  2,  3],\n",
      "         [ 4,  5,  6,  7],\n",
      "         [ 8,  9, 10, 11]],\n",
      "\n",
      "        [[12, 13, 14, 15],\n",
      "         [16, 17, 18, 19],\n",
      "         [20, 21, 22, 23]]], device='cuda:0')\n",
      "\n",
      "- 2x2x2x3:\n",
      " tensor([[[[ 0,  1,  2],\n",
      "          [ 3,  4,  5]],\n",
      "\n",
      "         [[ 6,  7,  8],\n",
      "          [ 9, 10, 11]]],\n",
      "\n",
      "\n",
      "        [[[12, 13, 14],\n",
      "          [15, 16, 17]],\n",
      "\n",
      "         [[18, 19, 20],\n",
      "          [21, 22, 23]]]], device='cuda:0')\n",
      "\n"
     ]
    }
   ],
   "source": [
    "tensor = torch.arange(0, 24).to(device)\n",
    "tensor_2x12 = tensor.reshape(2, 12)\n",
    "tensor_3x8 = tensor.reshape(3, 8)\n",
    "tensor_4x6 = tensor.reshape(4, 6)\n",
    "tensor_2x3x4 = tensor.reshape(2, 3, 4)\n",
    "tensor_2x2x2x3 = tensor.reshape(2, 2, 2, 3)\n",
    "\n",
    "print(f\"- 2x12:\\n {tensor_2x12}\", end='\\n\\n')\n",
    "print(f\"- 3x8:\\n {tensor_3x8}\", end='\\n\\n')\n",
    "print(f\"- 4x6:\\n {tensor_4x6}\", end='\\n\\n')\n",
    "print(f\"- 2x3x4:\\n {tensor_2x3x4}\", end='\\n\\n')\n",
    "print(f\"- 2x2x2x3:\\n {tensor_2x2x2x3}\", end='\\n\\n')"
   ]
  },
  {
   "cell_type": "code",
   "execution_count": null,
   "id": "97dc6b57-fc69-4df1-854f-14ea186d4cc5",
   "metadata": {},
   "outputs": [],
   "source": []
  }
 ],
 "metadata": {
  "kernelspec": {
   "display_name": "Python 3 (ipykernel)",
   "language": "python",
   "name": "python3"
  },
  "language_info": {
   "codemirror_mode": {
    "name": "ipython",
    "version": 3
   },
   "file_extension": ".py",
   "mimetype": "text/x-python",
   "name": "python",
   "nbconvert_exporter": "python",
   "pygments_lexer": "ipython3",
   "version": "3.12.9"
  }
 },
 "nbformat": 4,
 "nbformat_minor": 5
}

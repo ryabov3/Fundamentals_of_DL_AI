{
 "cells": [
  {
   "cell_type": "markdown",
   "id": "ea77152e-ece9-4357-bbe7-9c521b5fdeb9",
   "metadata": {},
   "source": [
    "# Задание 3: Сравнение производительности CPU vs CUDA"
   ]
  },
  {
   "cell_type": "markdown",
   "id": "6a5b6ecd-ed97-48f8-9341-d5d8056f37e7",
   "metadata": {
    "jp-MarkdownHeadingCollapsed": true
   },
   "source": [
    "## 3.0. Импорт pytorch и создание девайса"
   ]
  },
  {
   "cell_type": "code",
   "execution_count": 1,
   "id": "3c507cac-578b-447a-bb01-56b71496ab62",
   "metadata": {},
   "outputs": [
    {
     "name": "stdout",
     "output_type": "stream",
     "text": [
      "Тензоры на cuda:0.\n"
     ]
    }
   ],
   "source": [
    "import torch\n",
    "\n",
    "# Введём устройство, на котором будут работать тензоры.\n",
    "device = torch.device(\"cuda:0\" if torch.cuda.is_available() else \"cpu\")\n",
    "\n",
    "print(f\"Тензоры на {device}.\")"
   ]
  },
  {
   "cell_type": "markdown",
   "id": "028a9be5-a281-4a29-9f3b-8e6ad2fbb743",
   "metadata": {
    "jp-MarkdownHeadingCollapsed": true
   },
   "source": [
    "## 3.1. Подготовка данных"
   ]
  },
  {
   "cell_type": "code",
   "execution_count": 4,
   "id": "fc9bff30-ae44-437b-bd30-4f32616380ac",
   "metadata": {},
   "outputs": [],
   "source": [
    "matrix64 = torch.randint(1, 250, (64, 1024, 1024)).to(device)\n",
    "matrix128 = torch.randint(1, 250, (128, 512, 512)).to(device)\n",
    "matrix256 = torch.randint(1, 250, (256, 256, 256)).to(device)"
   ]
  },
  {
   "cell_type": "markdown",
   "id": "c11dfca0-d3f4-4b31-8555-b8144cb1cd20",
   "metadata": {},
   "source": [
    "## 3.2. Функция измерения времени"
   ]
  },
  {
   "cell_type": "code",
   "execution_count": 222,
   "id": "bc2f09ff-04ec-4573-a9c2-344dd7569dc8",
   "metadata": {},
   "outputs": [],
   "source": [
    "import time\n",
    "\n",
    "def get_work_time(operation_type, tensor1, tensor2=None, func=None):\n",
    "    \"\"\"\n",
    "    Измеряет время выполнения операции на CPU или GPU.\n",
    "    \"\"\"\n",
    "    if tensor1.device == torch.device(\"cpu\"):\n",
    "        start_time = time.time()\n",
    "        \n",
    "        if operation_type == 'two_tensors':\n",
    "            func(tensor1, tensor2)\n",
    "        elif operation_type == 'permute':\n",
    "            torch.permute(tensor1, (2, 1, 0))\n",
    "        elif operation_type == 'sum':\n",
    "            torch.sum(tensor1)\n",
    "\n",
    "        end_time = time.time()\n",
    "        elapsed_time = (end_time - start_time) * 1000 # Переводим в мс\n",
    "    else:\n",
    "        start_event = torch.cuda.Event(enable_timing=True)\n",
    "        end_event = torch.cuda.Event(enable_timing=True)\n",
    "        \n",
    "        start_event.record()\n",
    "        \n",
    "        if operation_type == 'two_tensors':\n",
    "            func(tensor1, tensor2)\n",
    "        elif operation_type == 'permute':\n",
    "            torch.permute(tensor1, (2, 1, 0))\n",
    "        elif operation_type == 'sum':\n",
    "            torch.sum(tensor1)\n",
    "            \n",
    "        end_event.record()\n",
    "        torch.cuda.synchronize()\n",
    "        elapsed_time = start_event.elapsed_time(end_event)\n",
    "    \n",
    "    return round(elapsed_time, 1)"
   ]
  },
  {
   "cell_type": "markdown",
   "id": "839a681b-b810-4061-a3e0-5ecfb5b399f1",
   "metadata": {},
   "source": [
    "## 3.3. Сравнение операций"
   ]
  },
  {
   "cell_type": "markdown",
   "id": "c35aca3d-41bc-4128-b5df-33ef80b70790",
   "metadata": {},
   "source": [
    "#### Матричное умножение"
   ]
  },
  {
   "cell_type": "code",
   "execution_count": 223,
   "id": "b5a1fc6d-619b-4319-ad2a-2dc645f260ea",
   "metadata": {},
   "outputs": [],
   "source": [
    "adapted_matrix256 = matrix256.reshape(256, -1).to(torch.float32)\n",
    "adapted_matrix128 = matrix128.reshape(-1, 512).to(torch.float32)\n",
    "\n",
    "mat_mul_gpu_time = get_work_time(\n",
    "    'two_tensors',\n",
    "    adapted_matrix256, \n",
    "    adapted_matrix128, \n",
    "    torch.matmul\n",
    ")\n",
    "mat_mul_cpu_time = get_work_time(\n",
    "    'two_tensors',\n",
    "    adapted_matrix256.to(\"cpu\"),\n",
    "    adapted_matrix128.to(\"cpu\"),\n",
    "    torch.matmul\n",
    ")\n",
    "\n",
    "mat_mul_diff = round(mat_mul_cpu_time / mat_mul_gpu_time, 2)"
   ]
  },
  {
   "cell_type": "markdown",
   "id": "340c9fc1-8112-49c9-8492-399854836fc1",
   "metadata": {},
   "source": [
    "#### Поэлементное сложение"
   ]
  },
  {
   "cell_type": "code",
   "execution_count": 224,
   "id": "9449a2df-cabe-4aa5-859a-85570b37c569",
   "metadata": {},
   "outputs": [],
   "source": [
    "matrix64_cpu = matrix64.to(torch.device(\"cpu\"))\n",
    "\n",
    "add_gpu_time = get_work_time('two_tensors', matrix64, matrix64, torch.add)\n",
    "add_cpu_time = get_work_time('two_tensors', matrix64_cpu, matrix64_cpu, torch.add)\n",
    "\n",
    "add_diff = round(add_cpu_time / add_gpu_time, 1)"
   ]
  },
  {
   "cell_type": "markdown",
   "id": "0aefab21-01cc-4dd9-b72a-7969c1e42661",
   "metadata": {},
   "source": [
    "#### Поэлеметное умножение"
   ]
  },
  {
   "cell_type": "code",
   "execution_count": 238,
   "id": "55a32b4b-4825-4bee-8543-e8a5d92f1aff",
   "metadata": {},
   "outputs": [],
   "source": [
    "mul_gpu_time = get_work_time('two_tensors', matrix64, matrix64, torch.mul)\n",
    "mul_cpu_time = get_work_time('two_tensors', matrix64_cpu, matrix64_cpu, torch.mul)\n",
    "\n",
    "mul_diff = round(mul_cpu_time / mul_gpu_time, 1)"
   ]
  },
  {
   "cell_type": "markdown",
   "id": "0df917d5-9761-4a16-95ef-5da160ccceeb",
   "metadata": {},
   "source": [
    "#### Транспонирование"
   ]
  },
  {
   "cell_type": "code",
   "execution_count": 226,
   "id": "29791d91-f3f7-494f-91ff-d7440f8afe9f",
   "metadata": {},
   "outputs": [],
   "source": [
    "permute_gpu_time = get_work_time('permute', matrix64)\n",
    "permute_cpu_time = get_work_time('permute', matrix64.to(torch.device(\"cpu\")))\n",
    "\n",
    "try:\n",
    "    permute_diff = round(permute_cpu_time / permute_gpu_time, 1)\n",
    "except ZeroDivisionError:\n",
    "    permute_diff = 0"
   ]
  },
  {
   "cell_type": "markdown",
   "id": "9e220202-9841-4de7-85dc-11f8b47ac68d",
   "metadata": {},
   "source": [
    "#### Вычисление суммы всех элементов"
   ]
  },
  {
   "cell_type": "code",
   "execution_count": 236,
   "id": "be3ba5c3-824d-47b2-a453-27036cfbcde3",
   "metadata": {},
   "outputs": [],
   "source": [
    "sum_gpu_time = get_work_time(\"sum\", matrix64)\n",
    "sum_cpu_time = get_work_time(\"sum\", matrix64)\n",
    "\n",
    "sum_diff = round(sum_cpu_time / sum_gpu_time, 1)"
   ]
  },
  {
   "cell_type": "markdown",
   "id": "c9d6debc-ee69-4b7c-9e54-27fcfcbc245d",
   "metadata": {},
   "source": [
    "### Результат в табличном виде"
   ]
  },
  {
   "cell_type": "code",
   "execution_count": 240,
   "id": "cc9de4db-9250-4e6e-b467-4d95c2ea17be",
   "metadata": {},
   "outputs": [
    {
     "name": "stdout",
     "output_type": "stream",
     "text": [
      "\n",
      "Операция            | CPU (мс) | GPU (мс) | Ускорение\n",
      "Матричное умножение | 79.3  | 23.7 | 3.35\n",
      "Сложение            | 44.6  | 4.9 | 9.1\n",
      "Умножение           | 77.1 | 135.5 | 0.6\n",
      "Транспонирование    | 0.0  | 0.0 | 0\n",
      "Сумма элементов     | 59.8  | 58.9 | 1.0\n",
      "\n"
     ]
    }
   ],
   "source": [
    "print(f\"\"\"\n",
    "Операция            | CPU (мс) | GPU (мс) | Ускорение\n",
    "Матричное умножение | {mat_mul_cpu_time}  | {mat_mul_gpu_time} | {mat_mul_diff}\n",
    "Сложение            | {add_cpu_time}  | {add_gpu_time} | {add_diff}\n",
    "Умножение           | {mul_cpu_time} | {mul_gpu_time} | {mul_diff}\n",
    "Транспонирование    | {permute_cpu_time}  | {permute_gpu_time} | {permute_diff}\n",
    "Сумма элементов     | {sum_cpu_time}  | {sum_gpu_time} | {sum_diff}\n",
    "\"\"\")"
   ]
  },
  {
   "cell_type": "code",
   "execution_count": null,
   "id": "53cb3fcd-880c-4adf-bef7-55b6ef0fd4b0",
   "metadata": {},
   "outputs": [],
   "source": []
  }
 ],
 "metadata": {
  "kernelspec": {
   "display_name": "Python 3 (ipykernel)",
   "language": "python",
   "name": "python3"
  },
  "language_info": {
   "codemirror_mode": {
    "name": "ipython",
    "version": 3
   },
   "file_extension": ".py",
   "mimetype": "text/x-python",
   "name": "python",
   "nbconvert_exporter": "python",
   "pygments_lexer": "ipython3",
   "version": "3.12.9"
  }
 },
 "nbformat": 4,
 "nbformat_minor": 5
}
